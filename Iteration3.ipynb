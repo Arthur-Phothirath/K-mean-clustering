{
  "cells": [
    {
      "cell_type": "markdown",
      "id": "c209bc7d",
      "metadata": {
        "id": "c209bc7d"
      },
      "source": [
        "# Cours 5 - Classification Binaire Supervisée\n",
        "Camille Duquesne - TCF3 - 2022"
      ]
    },
    {
      "cell_type": "markdown",
      "id": "98c2bbdf",
      "metadata": {
        "id": "98c2bbdf"
      },
      "source": [
        "Dans ce cours nous aborderons le sujet des métriques d'évaluations pour un projet de ML de classification binaire supervise.\n",
        "Nous verrons ensuite les concepts d'underfitting et overfitting, comment les reconnaitre et comment pallier à cela."
      ]
    },
    {
      "cell_type": "markdown",
      "id": "500b9104",
      "metadata": {
        "id": "500b9104"
      },
      "source": [
        "Sources:\n",
        "* https://towardsdatascience.com/overfitting-vs-underfitting-a-complete-example-d05dd7e19765\n",
        "* https://corporatefinanceinstitute.com/resources/data-science/overfitting/\n",
        "* https://machinelearningmastery.com/overfitting-machine-learning-models/\n",
        "* https://www.jeremyjordan.me/evaluating-a-machine-learning-model/\n",
        "* https://neptune.ai/blog/evaluation-metrics-binary-classification\n",
        "* https://thedigitalskye.com/2021/04/19/6-useful-metrics-to-evaluate-binary-classification-models/\n",
        "* https://towardsdatascience.com/performance-metrics-for-binary-classifier-in-simple-words-be958535db49"
      ]
    },
    {
      "cell_type": "markdown",
      "id": "07ca9e1e",
      "metadata": {
        "id": "07ca9e1e"
      },
      "source": [
        "---"
      ]
    },
    {
      "cell_type": "markdown",
      "id": "2dab2d52",
      "metadata": {
        "id": "2dab2d52"
      },
      "source": [
        "### 1.1 Data Cleaning"
      ]
    },
    {
      "cell_type": "markdown",
      "id": "067c4c69",
      "metadata": {
        "id": "067c4c69"
      },
      "source": [
        "Chargeons nos données :"
      ]
    },
    {
      "cell_type": "code",
      "execution_count": 27,
      "id": "1a324b56",
      "metadata": {
        "colab": {
          "base_uri": "https://localhost:8080/",
          "height": 424
        },
        "id": "1a324b56",
        "outputId": "c1a03cfc-f243-43cb-a2f1-49b08fd742a6"
      },
      "outputs": [
        {
          "data": {
            "text/html": [
              "<div>\n",
              "<style scoped>\n",
              "    .dataframe tbody tr th:only-of-type {\n",
              "        vertical-align: middle;\n",
              "    }\n",
              "\n",
              "    .dataframe tbody tr th {\n",
              "        vertical-align: top;\n",
              "    }\n",
              "\n",
              "    .dataframe thead th {\n",
              "        text-align: right;\n",
              "    }\n",
              "</style>\n",
              "<table border=\"1\" class=\"dataframe\">\n",
              "  <thead>\n",
              "    <tr style=\"text-align: right;\">\n",
              "      <th></th>\n",
              "      <th>id</th>\n",
              "      <th>diagnosis</th>\n",
              "      <th>radius_mean</th>\n",
              "      <th>texture_mean</th>\n",
              "      <th>perimeter_mean</th>\n",
              "      <th>area_mean</th>\n",
              "      <th>smoothness_mean</th>\n",
              "      <th>compactness_mean</th>\n",
              "      <th>concavity_mean</th>\n",
              "      <th>concave_points_mean</th>\n",
              "      <th>...</th>\n",
              "      <th>texture_worst</th>\n",
              "      <th>perimeter_worst</th>\n",
              "      <th>area_worst</th>\n",
              "      <th>smoothness_worst</th>\n",
              "      <th>compactness_worst</th>\n",
              "      <th>concavity_worst</th>\n",
              "      <th>concave points_worst</th>\n",
              "      <th>symmetry_worst</th>\n",
              "      <th>fractal_dimension_worst</th>\n",
              "      <th>Unnamed: 32</th>\n",
              "    </tr>\n",
              "  </thead>\n",
              "  <tbody>\n",
              "    <tr>\n",
              "      <th>0</th>\n",
              "      <td>842302</td>\n",
              "      <td>M</td>\n",
              "      <td>17.99</td>\n",
              "      <td>10.38</td>\n",
              "      <td>122.80</td>\n",
              "      <td>1001.0</td>\n",
              "      <td>0.11840</td>\n",
              "      <td>0.27760</td>\n",
              "      <td>0.30010</td>\n",
              "      <td>0.14710</td>\n",
              "      <td>...</td>\n",
              "      <td>17.33</td>\n",
              "      <td>184.60</td>\n",
              "      <td>2019.0</td>\n",
              "      <td>0.16220</td>\n",
              "      <td>0.66560</td>\n",
              "      <td>0.7119</td>\n",
              "      <td>0.2654</td>\n",
              "      <td>0.4601</td>\n",
              "      <td>0.11890</td>\n",
              "      <td>NaN</td>\n",
              "    </tr>\n",
              "    <tr>\n",
              "      <th>1</th>\n",
              "      <td>842517</td>\n",
              "      <td>M</td>\n",
              "      <td>20.57</td>\n",
              "      <td>17.77</td>\n",
              "      <td>132.90</td>\n",
              "      <td>1326.0</td>\n",
              "      <td>0.08474</td>\n",
              "      <td>0.07864</td>\n",
              "      <td>0.08690</td>\n",
              "      <td>0.07017</td>\n",
              "      <td>...</td>\n",
              "      <td>23.41</td>\n",
              "      <td>158.80</td>\n",
              "      <td>1956.0</td>\n",
              "      <td>0.12380</td>\n",
              "      <td>0.18660</td>\n",
              "      <td>0.2416</td>\n",
              "      <td>0.1860</td>\n",
              "      <td>0.2750</td>\n",
              "      <td>0.08902</td>\n",
              "      <td>NaN</td>\n",
              "    </tr>\n",
              "    <tr>\n",
              "      <th>2</th>\n",
              "      <td>84300903</td>\n",
              "      <td>M</td>\n",
              "      <td>19.69</td>\n",
              "      <td>21.25</td>\n",
              "      <td>130.00</td>\n",
              "      <td>1203.0</td>\n",
              "      <td>0.10960</td>\n",
              "      <td>0.15990</td>\n",
              "      <td>0.19740</td>\n",
              "      <td>0.12790</td>\n",
              "      <td>...</td>\n",
              "      <td>25.53</td>\n",
              "      <td>152.50</td>\n",
              "      <td>1709.0</td>\n",
              "      <td>0.14440</td>\n",
              "      <td>0.42450</td>\n",
              "      <td>0.4504</td>\n",
              "      <td>0.2430</td>\n",
              "      <td>0.3613</td>\n",
              "      <td>0.08758</td>\n",
              "      <td>NaN</td>\n",
              "    </tr>\n",
              "    <tr>\n",
              "      <th>3</th>\n",
              "      <td>84348301</td>\n",
              "      <td>M</td>\n",
              "      <td>11.42</td>\n",
              "      <td>20.38</td>\n",
              "      <td>77.58</td>\n",
              "      <td>386.1</td>\n",
              "      <td>0.14250</td>\n",
              "      <td>0.28390</td>\n",
              "      <td>0.24140</td>\n",
              "      <td>0.10520</td>\n",
              "      <td>...</td>\n",
              "      <td>26.50</td>\n",
              "      <td>98.87</td>\n",
              "      <td>567.7</td>\n",
              "      <td>0.20980</td>\n",
              "      <td>0.86630</td>\n",
              "      <td>0.6869</td>\n",
              "      <td>0.2575</td>\n",
              "      <td>0.6638</td>\n",
              "      <td>0.17300</td>\n",
              "      <td>NaN</td>\n",
              "    </tr>\n",
              "    <tr>\n",
              "      <th>4</th>\n",
              "      <td>84358402</td>\n",
              "      <td>M</td>\n",
              "      <td>20.29</td>\n",
              "      <td>14.34</td>\n",
              "      <td>135.10</td>\n",
              "      <td>1297.0</td>\n",
              "      <td>0.10030</td>\n",
              "      <td>0.13280</td>\n",
              "      <td>0.19800</td>\n",
              "      <td>0.10430</td>\n",
              "      <td>...</td>\n",
              "      <td>16.67</td>\n",
              "      <td>152.20</td>\n",
              "      <td>1575.0</td>\n",
              "      <td>0.13740</td>\n",
              "      <td>0.20500</td>\n",
              "      <td>0.4000</td>\n",
              "      <td>0.1625</td>\n",
              "      <td>0.2364</td>\n",
              "      <td>0.07678</td>\n",
              "      <td>NaN</td>\n",
              "    </tr>\n",
              "    <tr>\n",
              "      <th>...</th>\n",
              "      <td>...</td>\n",
              "      <td>...</td>\n",
              "      <td>...</td>\n",
              "      <td>...</td>\n",
              "      <td>...</td>\n",
              "      <td>...</td>\n",
              "      <td>...</td>\n",
              "      <td>...</td>\n",
              "      <td>...</td>\n",
              "      <td>...</td>\n",
              "      <td>...</td>\n",
              "      <td>...</td>\n",
              "      <td>...</td>\n",
              "      <td>...</td>\n",
              "      <td>...</td>\n",
              "      <td>...</td>\n",
              "      <td>...</td>\n",
              "      <td>...</td>\n",
              "      <td>...</td>\n",
              "      <td>...</td>\n",
              "      <td>...</td>\n",
              "    </tr>\n",
              "    <tr>\n",
              "      <th>564</th>\n",
              "      <td>926424</td>\n",
              "      <td>M</td>\n",
              "      <td>21.56</td>\n",
              "      <td>22.39</td>\n",
              "      <td>142.00</td>\n",
              "      <td>1479.0</td>\n",
              "      <td>0.11100</td>\n",
              "      <td>0.11590</td>\n",
              "      <td>0.24390</td>\n",
              "      <td>0.13890</td>\n",
              "      <td>...</td>\n",
              "      <td>26.40</td>\n",
              "      <td>166.10</td>\n",
              "      <td>2027.0</td>\n",
              "      <td>0.14100</td>\n",
              "      <td>0.21130</td>\n",
              "      <td>0.4107</td>\n",
              "      <td>0.2216</td>\n",
              "      <td>0.2060</td>\n",
              "      <td>0.07115</td>\n",
              "      <td>NaN</td>\n",
              "    </tr>\n",
              "    <tr>\n",
              "      <th>565</th>\n",
              "      <td>926682</td>\n",
              "      <td>M</td>\n",
              "      <td>20.13</td>\n",
              "      <td>28.25</td>\n",
              "      <td>131.20</td>\n",
              "      <td>1261.0</td>\n",
              "      <td>0.09780</td>\n",
              "      <td>0.10340</td>\n",
              "      <td>0.14400</td>\n",
              "      <td>0.09791</td>\n",
              "      <td>...</td>\n",
              "      <td>38.25</td>\n",
              "      <td>155.00</td>\n",
              "      <td>1731.0</td>\n",
              "      <td>0.11660</td>\n",
              "      <td>0.19220</td>\n",
              "      <td>0.3215</td>\n",
              "      <td>0.1628</td>\n",
              "      <td>0.2572</td>\n",
              "      <td>0.06637</td>\n",
              "      <td>NaN</td>\n",
              "    </tr>\n",
              "    <tr>\n",
              "      <th>566</th>\n",
              "      <td>926954</td>\n",
              "      <td>M</td>\n",
              "      <td>16.60</td>\n",
              "      <td>28.08</td>\n",
              "      <td>108.30</td>\n",
              "      <td>858.1</td>\n",
              "      <td>0.08455</td>\n",
              "      <td>0.10230</td>\n",
              "      <td>0.09251</td>\n",
              "      <td>0.05302</td>\n",
              "      <td>...</td>\n",
              "      <td>34.12</td>\n",
              "      <td>126.70</td>\n",
              "      <td>1124.0</td>\n",
              "      <td>0.11390</td>\n",
              "      <td>0.30940</td>\n",
              "      <td>0.3403</td>\n",
              "      <td>0.1418</td>\n",
              "      <td>0.2218</td>\n",
              "      <td>0.07820</td>\n",
              "      <td>NaN</td>\n",
              "    </tr>\n",
              "    <tr>\n",
              "      <th>567</th>\n",
              "      <td>927241</td>\n",
              "      <td>M</td>\n",
              "      <td>20.60</td>\n",
              "      <td>29.33</td>\n",
              "      <td>140.10</td>\n",
              "      <td>1265.0</td>\n",
              "      <td>0.11780</td>\n",
              "      <td>0.27700</td>\n",
              "      <td>0.35140</td>\n",
              "      <td>0.15200</td>\n",
              "      <td>...</td>\n",
              "      <td>39.42</td>\n",
              "      <td>184.60</td>\n",
              "      <td>1821.0</td>\n",
              "      <td>0.16500</td>\n",
              "      <td>0.86810</td>\n",
              "      <td>0.9387</td>\n",
              "      <td>0.2650</td>\n",
              "      <td>0.4087</td>\n",
              "      <td>0.12400</td>\n",
              "      <td>NaN</td>\n",
              "    </tr>\n",
              "    <tr>\n",
              "      <th>568</th>\n",
              "      <td>92751</td>\n",
              "      <td>B</td>\n",
              "      <td>7.76</td>\n",
              "      <td>24.54</td>\n",
              "      <td>47.92</td>\n",
              "      <td>181.0</td>\n",
              "      <td>0.05263</td>\n",
              "      <td>0.04362</td>\n",
              "      <td>0.00000</td>\n",
              "      <td>0.00000</td>\n",
              "      <td>...</td>\n",
              "      <td>30.37</td>\n",
              "      <td>59.16</td>\n",
              "      <td>268.6</td>\n",
              "      <td>0.08996</td>\n",
              "      <td>0.06444</td>\n",
              "      <td>0.0000</td>\n",
              "      <td>0.0000</td>\n",
              "      <td>0.2871</td>\n",
              "      <td>0.07039</td>\n",
              "      <td>NaN</td>\n",
              "    </tr>\n",
              "  </tbody>\n",
              "</table>\n",
              "<p>569 rows × 33 columns</p>\n",
              "</div>"
            ],
            "text/plain": [
              "           id diagnosis  radius_mean  texture_mean  perimeter_mean  area_mean  \\\n",
              "0      842302         M        17.99         10.38          122.80     1001.0   \n",
              "1      842517         M        20.57         17.77          132.90     1326.0   \n",
              "2    84300903         M        19.69         21.25          130.00     1203.0   \n",
              "3    84348301         M        11.42         20.38           77.58      386.1   \n",
              "4    84358402         M        20.29         14.34          135.10     1297.0   \n",
              "..        ...       ...          ...           ...             ...        ...   \n",
              "564    926424         M        21.56         22.39          142.00     1479.0   \n",
              "565    926682         M        20.13         28.25          131.20     1261.0   \n",
              "566    926954         M        16.60         28.08          108.30      858.1   \n",
              "567    927241         M        20.60         29.33          140.10     1265.0   \n",
              "568     92751         B         7.76         24.54           47.92      181.0   \n",
              "\n",
              "     smoothness_mean  compactness_mean  concavity_mean  concave_points_mean  \\\n",
              "0            0.11840           0.27760         0.30010              0.14710   \n",
              "1            0.08474           0.07864         0.08690              0.07017   \n",
              "2            0.10960           0.15990         0.19740              0.12790   \n",
              "3            0.14250           0.28390         0.24140              0.10520   \n",
              "4            0.10030           0.13280         0.19800              0.10430   \n",
              "..               ...               ...             ...                  ...   \n",
              "564          0.11100           0.11590         0.24390              0.13890   \n",
              "565          0.09780           0.10340         0.14400              0.09791   \n",
              "566          0.08455           0.10230         0.09251              0.05302   \n",
              "567          0.11780           0.27700         0.35140              0.15200   \n",
              "568          0.05263           0.04362         0.00000              0.00000   \n",
              "\n",
              "     ...  texture_worst  perimeter_worst  area_worst  smoothness_worst  \\\n",
              "0    ...          17.33           184.60      2019.0           0.16220   \n",
              "1    ...          23.41           158.80      1956.0           0.12380   \n",
              "2    ...          25.53           152.50      1709.0           0.14440   \n",
              "3    ...          26.50            98.87       567.7           0.20980   \n",
              "4    ...          16.67           152.20      1575.0           0.13740   \n",
              "..   ...            ...              ...         ...               ...   \n",
              "564  ...          26.40           166.10      2027.0           0.14100   \n",
              "565  ...          38.25           155.00      1731.0           0.11660   \n",
              "566  ...          34.12           126.70      1124.0           0.11390   \n",
              "567  ...          39.42           184.60      1821.0           0.16500   \n",
              "568  ...          30.37            59.16       268.6           0.08996   \n",
              "\n",
              "     compactness_worst  concavity_worst  concave points_worst  symmetry_worst  \\\n",
              "0              0.66560           0.7119                0.2654          0.4601   \n",
              "1              0.18660           0.2416                0.1860          0.2750   \n",
              "2              0.42450           0.4504                0.2430          0.3613   \n",
              "3              0.86630           0.6869                0.2575          0.6638   \n",
              "4              0.20500           0.4000                0.1625          0.2364   \n",
              "..                 ...              ...                   ...             ...   \n",
              "564            0.21130           0.4107                0.2216          0.2060   \n",
              "565            0.19220           0.3215                0.1628          0.2572   \n",
              "566            0.30940           0.3403                0.1418          0.2218   \n",
              "567            0.86810           0.9387                0.2650          0.4087   \n",
              "568            0.06444           0.0000                0.0000          0.2871   \n",
              "\n",
              "     fractal_dimension_worst  Unnamed: 32  \n",
              "0                    0.11890          NaN  \n",
              "1                    0.08902          NaN  \n",
              "2                    0.08758          NaN  \n",
              "3                    0.17300          NaN  \n",
              "4                    0.07678          NaN  \n",
              "..                       ...          ...  \n",
              "564                  0.07115          NaN  \n",
              "565                  0.06637          NaN  \n",
              "566                  0.07820          NaN  \n",
              "567                  0.12400          NaN  \n",
              "568                  0.07039          NaN  \n",
              "\n",
              "[569 rows x 33 columns]"
            ]
          },
          "execution_count": 27,
          "metadata": {},
          "output_type": "execute_result"
        }
      ],
      "source": [
        "import pandas as pd\n",
        "import seaborn as sns\n",
        "import numpy as np\n",
        "from sklearn.model_selection import train_test_split\n",
        "from sklearn.ensemble import RandomForestClassifier\n",
        "from sklearn import metrics\n",
        "data = pd.read_csv('data.csv')\n",
        "\n",
        "\n",
        "data"
      ]
    },
    {
      "cell_type": "markdown",
      "id": "0761d03c",
      "metadata": {
        "id": "0761d03c"
      },
      "source": [
        "Tout d'abord, nous supprimons les colonnes PassengerId, Name, Cabin et Ticket car elles ne semblent pas nous fournir d'informations pertinentes."
      ]
    },
    {
      "cell_type": "code",
      "execution_count": 28,
      "id": "8aede08e",
      "metadata": {
        "colab": {
          "base_uri": "https://localhost:8080/"
        },
        "id": "8aede08e",
        "outputId": "671351af-ffe8-48a0-b08b-cd4de6e44425"
      },
      "outputs": [
        {
          "data": {
            "text/html": [
              "<div>\n",
              "<style scoped>\n",
              "    .dataframe tbody tr th:only-of-type {\n",
              "        vertical-align: middle;\n",
              "    }\n",
              "\n",
              "    .dataframe tbody tr th {\n",
              "        vertical-align: top;\n",
              "    }\n",
              "\n",
              "    .dataframe thead th {\n",
              "        text-align: right;\n",
              "    }\n",
              "</style>\n",
              "<table border=\"1\" class=\"dataframe\">\n",
              "  <thead>\n",
              "    <tr style=\"text-align: right;\">\n",
              "      <th></th>\n",
              "      <th>diagnosis</th>\n",
              "      <th>radius_mean</th>\n",
              "      <th>texture_mean</th>\n",
              "      <th>perimeter_mean</th>\n",
              "      <th>area_mean</th>\n",
              "      <th>smoothness_mean</th>\n",
              "      <th>compactness_mean</th>\n",
              "      <th>concavity_mean</th>\n",
              "      <th>concave_points_mean</th>\n",
              "      <th>symmetry_mean</th>\n",
              "      <th>fractal_dimension_mean</th>\n",
              "    </tr>\n",
              "  </thead>\n",
              "  <tbody>\n",
              "    <tr>\n",
              "      <th>0</th>\n",
              "      <td>1</td>\n",
              "      <td>17.99</td>\n",
              "      <td>10.38</td>\n",
              "      <td>122.80</td>\n",
              "      <td>1001.0</td>\n",
              "      <td>0.11840</td>\n",
              "      <td>0.27760</td>\n",
              "      <td>0.3001</td>\n",
              "      <td>0.14710</td>\n",
              "      <td>0.2419</td>\n",
              "      <td>0.07871</td>\n",
              "    </tr>\n",
              "    <tr>\n",
              "      <th>1</th>\n",
              "      <td>1</td>\n",
              "      <td>20.57</td>\n",
              "      <td>17.77</td>\n",
              "      <td>132.90</td>\n",
              "      <td>1326.0</td>\n",
              "      <td>0.08474</td>\n",
              "      <td>0.07864</td>\n",
              "      <td>0.0869</td>\n",
              "      <td>0.07017</td>\n",
              "      <td>0.1812</td>\n",
              "      <td>0.05667</td>\n",
              "    </tr>\n",
              "    <tr>\n",
              "      <th>2</th>\n",
              "      <td>1</td>\n",
              "      <td>19.69</td>\n",
              "      <td>21.25</td>\n",
              "      <td>130.00</td>\n",
              "      <td>1203.0</td>\n",
              "      <td>0.10960</td>\n",
              "      <td>0.15990</td>\n",
              "      <td>0.1974</td>\n",
              "      <td>0.12790</td>\n",
              "      <td>0.2069</td>\n",
              "      <td>0.05999</td>\n",
              "    </tr>\n",
              "    <tr>\n",
              "      <th>3</th>\n",
              "      <td>1</td>\n",
              "      <td>11.42</td>\n",
              "      <td>20.38</td>\n",
              "      <td>77.58</td>\n",
              "      <td>386.1</td>\n",
              "      <td>0.14250</td>\n",
              "      <td>0.28390</td>\n",
              "      <td>0.2414</td>\n",
              "      <td>0.10520</td>\n",
              "      <td>0.2597</td>\n",
              "      <td>0.09744</td>\n",
              "    </tr>\n",
              "    <tr>\n",
              "      <th>4</th>\n",
              "      <td>1</td>\n",
              "      <td>20.29</td>\n",
              "      <td>14.34</td>\n",
              "      <td>135.10</td>\n",
              "      <td>1297.0</td>\n",
              "      <td>0.10030</td>\n",
              "      <td>0.13280</td>\n",
              "      <td>0.1980</td>\n",
              "      <td>0.10430</td>\n",
              "      <td>0.1809</td>\n",
              "      <td>0.05883</td>\n",
              "    </tr>\n",
              "  </tbody>\n",
              "</table>\n",
              "</div>"
            ],
            "text/plain": [
              "   diagnosis  radius_mean  texture_mean  perimeter_mean  area_mean  \\\n",
              "0          1        17.99         10.38          122.80     1001.0   \n",
              "1          1        20.57         17.77          132.90     1326.0   \n",
              "2          1        19.69         21.25          130.00     1203.0   \n",
              "3          1        11.42         20.38           77.58      386.1   \n",
              "4          1        20.29         14.34          135.10     1297.0   \n",
              "\n",
              "   smoothness_mean  compactness_mean  concavity_mean  concave_points_mean  \\\n",
              "0          0.11840           0.27760          0.3001              0.14710   \n",
              "1          0.08474           0.07864          0.0869              0.07017   \n",
              "2          0.10960           0.15990          0.1974              0.12790   \n",
              "3          0.14250           0.28390          0.2414              0.10520   \n",
              "4          0.10030           0.13280          0.1980              0.10430   \n",
              "\n",
              "   symmetry_mean  fractal_dimension_mean  \n",
              "0         0.2419                 0.07871  \n",
              "1         0.1812                 0.05667  \n",
              "2         0.2069                 0.05999  \n",
              "3         0.2597                 0.09744  \n",
              "4         0.1809                 0.05883  "
            ]
          },
          "execution_count": 28,
          "metadata": {},
          "output_type": "execute_result"
        }
      ],
      "source": [
        "# clean data\n",
        "data = data.drop_duplicates()\n",
        "data = data.drop(['id', 'Unnamed: 32'], axis=1)\n",
        "data['diagnosis'] = data['diagnosis'].map({'M': 1, 'B': 0})\n",
        "data.head()\n",
        "\n",
        "data = data.drop(['radius_se', 'texture_se', 'perimeter_se', 'area_se', 'smoothness_se', 'compactness_se', 'concavity_se', 'concave points_se', 'symmetry_se', 'fractal_dimension_se', 'radius_worst', 'texture_worst', 'perimeter_worst', 'area_worst', 'smoothness_worst', 'compactness_worst', 'concavity_worst', 'concave points_worst', 'symmetry_worst', 'fractal_dimension_worst'], axis=1)\n",
        "\n",
        "\n",
        "\n",
        "data.head()"
      ]
    },
    {
      "cell_type": "markdown",
      "id": "d3d17a74",
      "metadata": {
        "id": "d3d17a74"
      },
      "source": [
        "Ensuite, nous vérifions les données manquantes :"
      ]
    },
    {
      "cell_type": "code",
      "execution_count": 29,
      "id": "f677e4d4",
      "metadata": {
        "colab": {
          "base_uri": "https://localhost:8080/"
        },
        "id": "f677e4d4",
        "outputId": "2eecb27b-374d-45a0-c5e6-10c883fe416e"
      },
      "outputs": [
        {
          "data": {
            "text/plain": [
              "diagnosis                 0\n",
              "radius_mean               0\n",
              "texture_mean              0\n",
              "perimeter_mean            0\n",
              "area_mean                 0\n",
              "smoothness_mean           0\n",
              "compactness_mean          0\n",
              "concavity_mean            0\n",
              "concave_points_mean       0\n",
              "symmetry_mean             0\n",
              "fractal_dimension_mean    0\n",
              "dtype: int64"
            ]
          },
          "execution_count": 29,
          "metadata": {},
          "output_type": "execute_result"
        }
      ],
      "source": [
        "data.isna().sum()"
      ]
    },
    {
      "cell_type": "markdown",
      "id": "6f0596ab",
      "metadata": {
        "id": "6f0596ab"
      },
      "source": [
        "Enfin, nous voulons calculer la corrélation entre toutes nos variables pour voir si toutes les caractéristiques sont pertinentes et doivent être conservées."
      ]
    },
    {
      "cell_type": "code",
      "execution_count": 30,
      "id": "83533d84",
      "metadata": {
        "colab": {
          "base_uri": "https://localhost:8080/",
          "height": 320
        },
        "id": "83533d84",
        "outputId": "c0bfbd3d-1258-456a-8431-306023c73fb3"
      },
      "outputs": [
        {
          "data": {
            "text/plain": [
              "diagnosis                 1.000000\n",
              "concave_points_mean       0.776614\n",
              "perimeter_mean            0.742636\n",
              "radius_mean               0.730029\n",
              "area_mean                 0.708984\n",
              "concavity_mean            0.696360\n",
              "compactness_mean          0.596534\n",
              "texture_mean              0.415185\n",
              "smoothness_mean           0.358560\n",
              "symmetry_mean             0.330499\n",
              "fractal_dimension_mean   -0.012838\n",
              "Name: diagnosis, dtype: float64"
            ]
          },
          "execution_count": 30,
          "metadata": {},
          "output_type": "execute_result"
        },
        {
          "data": {
            "image/png": "[encoded data removed]",
            "text/plain": [
              "<Figure size 432x288 with 2 Axes>"
            ]
          },
          "metadata": {
            "needs_background": "light"
          },
          "output_type": "display_data"
        }
      ],
      "source": [
        "\n",
        "sns.heatmap(data.corr(), vmin=-1, vmax=1, center=0, annot=True, fmt=\".2%\")\n",
        "\n",
        "data.corr()['diagnosis'].sort_values(ascending=False)"
      ]
    },
    {
      "cell_type": "markdown",
      "id": "a01d939b",
      "metadata": {
        "id": "a01d939b"
      },
      "source": [
        "Pour tirer des enseignements de la corrélation entre les caractéristiques...\n",
        "* Tarif et Pclass sont négativement corrélés (avec un coefficient de corrélation de Pearson de -0.55) ; De toute évidence, des tarifs plus élevés impliquent de meilleures classes de billets (plus le numéro de classe est bas) et vice versa.\n",
        "* Pclass et survived sont modérément corrélés négativement (-0.34), ce qui implique que plus la classe de billets est bonne, plus les chances de survie sont élevées.\n",
        "* Les caractéristiques SibSp et Parch sont positivement corrélées ensemble, ce qui indique le nombre de membres de la famille accompagnant le passager.\n",
        "* PClass et l'âge sont négativement corrélés (-0.34), ce qui implique que plus l'âge est élevé, meilleure est la classe du billet.\n",
        "* Les ports d'embarquement ont également une légère corrélation avec la survie, en particulier pour le port S (-0,16) et le port C (0,17), le port dans lequel le navire a été embarqué par les passagers a déterminé leurs chances de survie.\n",
        "* Le sexe est également fortement corrélé avec la survie (-0.54), ce qui indique que le sexe du passager a un effet important sur ses chances de survie.\n",
        "* Les ports d'embarquement et le tarif des passagers ont de très légères corrélations négatives, indiquant que le tarif dépend du port d'embarquement du passager.\n",
        "* Embarqué et Pclass sont également légèrement corrélés, indiquant qu'un passager de 1ère classe a probablement embarqué dans un port différent de celui d'un passager de 3ème classe."
      ]
    },
    {
      "cell_type": "code",
      "execution_count": 31,
      "id": "3c626974",
      "metadata": {
        "colab": {
          "base_uri": "https://localhost:8080/",
          "height": 424
        },
        "id": "3c626974",
        "outputId": "755c0414-35b8-466a-b8ce-7bc24061baa7"
      },
      "outputs": [],
      "source": [
        "#show the best correlation with diagnosis\n",
        "data.corr()['diagnosis'].sort_values(ascending=False)\n",
        "# delete the columns with correlation less than 0.50\n",
        "data = data.drop(['texture_mean', 'smoothness_mean', 'symmetry_mean', 'fractal_dimension_mean'], axis=1)"
      ]
    },
    {
      "cell_type": "code",
      "execution_count": 32,
      "id": "3ff6ffd3",
      "metadata": {
        "id": "3ff6ffd3"
      },
      "outputs": [],
      "source": [
        "y = data['diagnosis']\n",
        "X = data.drop(columns=['diagnosis'])"
      ]
    },
    {
      "cell_type": "code",
      "execution_count": 33,
      "id": "8e28db21",
      "metadata": {
        "id": "8e28db21"
      },
      "outputs": [],
      "source": [
        "X_train, X_test, y_train, y_test = train_test_split(X, y, test_size=0.3)"
      ]
    },
    {
      "cell_type": "markdown",
      "id": "69427f02",
      "metadata": {},
      "source": [
        "Normalisation"
      ]
    },
    {
      "cell_type": "code",
      "execution_count": 34,
      "id": "60ab18f5",
      "metadata": {},
      "outputs": [],
      "source": [
        "data = (data - data.min()) / (data.max() - data.min())"
      ]
    },
    {
      "cell_type": "markdown",
      "id": "63845c91",
      "metadata": {
        "id": "63845c91"
      },
      "source": [
        "### 1.3 Entrainement du modèle"
      ]
    },
    {
      "cell_type": "markdown",
      "id": "8cf1368b",
      "metadata": {},
      "source": [
        "KNN"
      ]
    },
    {
      "cell_type": "code",
      "execution_count": 35,
      "id": "cfbc4082",
      "metadata": {
        "id": "cfbc4082"
      },
      "outputs": [
        {
          "data": {
            "text/plain": [
              "array([1, 0, 1, 0, 0])"
            ]
          },
          "execution_count": 35,
          "metadata": {},
          "output_type": "execute_result"
        }
      ],
      "source": [
        "from sklearn.neighbors import KNeighborsClassifier\n",
        "\n",
        "model = KNeighborsClassifier(n_neighbors=3)\n",
        "model.fit(X_train, y_train)\n",
        "y_pred = model.predict(X_test)\n",
        "\n",
        "y_pred[:5]\n",
        "\n",
        "# non car 2 valeurs"
      ]
    },
    {
      "cell_type": "code",
      "execution_count": 36,
      "id": "b5378ecb",
      "metadata": {},
      "outputs": [
        {
          "data": {
            "text/plain": [
              "0.8538011695906432"
            ]
          },
          "execution_count": 36,
          "metadata": {},
          "output_type": "execute_result"
        }
      ],
      "source": [
        "from sklearn.metrics import accuracy_score\n",
        "accuracy_score(y_test, y_pred)"
      ]
    },
    {
      "cell_type": "code",
      "execution_count": 37,
      "id": "88f3ae77",
      "metadata": {},
      "outputs": [
        {
          "name": "stdout",
          "output_type": "stream",
          "text": [
            "0.8120300751879699\n"
          ]
        }
      ],
      "source": [
        "from sklearn.metrics import f1_score\n",
        "f1 = f1_score(y_test, y_pred)\n",
        "print(f1)"
      ]
    },
    {
      "cell_type": "code",
      "execution_count": 38,
      "id": "38cc14b4",
      "metadata": {},
      "outputs": [
        {
          "data": {
            "text/plain": [
              "<sklearn.metrics._plot.confusion_matrix.ConfusionMatrixDisplay at 0x7fb23c528cd0>"
            ]
          },
          "execution_count": 38,
          "metadata": {},
          "output_type": "execute_result"
        },
        {
          "data": {
            "image/png": "[encoded data removed]",
            "text/plain": [
              "<Figure size 432x288 with 2 Axes>"
            ]
          },
          "metadata": {
            "needs_background": "light"
          },
          "output_type": "display_data"
        }
      ],
      "source": [
        "from sklearn.metrics import confusion_matrix, ConfusionMatrixDisplay\n",
        "cm = confusion_matrix(y_test, y_pred)\n",
        "ConfusionMatrixDisplay(confusion_matrix = cm, display_labels = model.classes_).plot()"
      ]
    },
    {
      "cell_type": "code",
      "execution_count": 39,
      "id": "6b9eb13e",
      "metadata": {},
      "outputs": [
        {
          "name": "stdout",
          "output_type": "stream",
          "text": [
            "0.7605633802816901\n"
          ]
        }
      ],
      "source": [
        "tn, fp, fn, tp = confusion_matrix(y_test, y_pred).ravel()\n",
        "true_positive_rate = tp / (tp + fn)\n",
        "print(true_positive_rate)"
      ]
    },
    {
      "cell_type": "code",
      "execution_count": 40,
      "id": "093febb6",
      "metadata": {},
      "outputs": [
        {
          "name": "stdout",
          "output_type": "stream",
          "text": [
            "0.92\n"
          ]
        }
      ],
      "source": [
        "tn, fp, fn, tp = confusion_matrix(y_test, y_pred).ravel()\n",
        "true_negative_rate = tn / (tn + fp)\n",
        "print(true_negative_rate)"
      ]
    },
    {
      "cell_type": "code",
      "execution_count": 41,
      "id": "c67ea5d7",
      "metadata": {},
      "outputs": [
        {
          "name": "stderr",
          "output_type": "stream",
          "text": [
            "/Library/Frameworks/Python.framework/Versions/3.9/lib/python3.9/site-packages/sklearn/utils/deprecation.py:87: FutureWarning: Function plot_roc_curve is deprecated; Function :func:`plot_roc_curve` is deprecated in 1.0 and will be removed in 1.2. Use one of the class methods: :meth:`sklearn.metrics.RocCurveDisplay.from_predictions` or :meth:`sklearn.metrics.RocCurveDisplay.from_estimator`.\n",
            "  warnings.warn(msg, category=FutureWarning)\n"
          ]
        },
        {
          "data": {
            "text/plain": [
              "<sklearn.metrics._plot.roc_curve.RocCurveDisplay at 0x7fb23c270fd0>"
            ]
          },
          "execution_count": 41,
          "metadata": {},
          "output_type": "execute_result"
        },
        {
          "data": {
            "image/png": "[encoded data removed]",
            "text/plain": [
              "<Figure size 432x288 with 1 Axes>"
            ]
          },
          "metadata": {
            "needs_background": "light"
          },
          "output_type": "display_data"
        }
      ],
      "source": [
        "import matplotlib.pyplot as plt\n",
        "from sklearn.metrics import plot_roc_curve\n",
        "\n",
        "plot_roc_curve(model, X_test, y_test)"
      ]
    },
    {
      "cell_type": "code",
      "execution_count": 42,
      "id": "25690178",
      "metadata": {},
      "outputs": [
        {
          "name": "stdout",
          "output_type": "stream",
          "text": [
            "0.8402816901408451\n"
          ]
        }
      ],
      "source": [
        "from sklearn.metrics import roc_auc_score\n",
        "\n",
        "roc_auc = roc_auc_score(y_test, y_pred)\n",
        "print(roc_auc)"
      ]
    },
    {
      "cell_type": "markdown",
      "id": "828bbb21",
      "metadata": {},
      "source": [
        "SVC"
      ]
    },
    {
      "cell_type": "code",
      "execution_count": 43,
      "id": "UoJQVxk92_vu",
      "metadata": {
        "id": "UoJQVxk92_vu"
      },
      "outputs": [
        {
          "data": {
            "text/plain": [
              "array([1, 0, 1, 0, 0])"
            ]
          },
          "execution_count": 43,
          "metadata": {},
          "output_type": "execute_result"
        }
      ],
      "source": [
        "from sklearn.svm import SVC\n",
        "\n",
        "model = SVC()\n",
        "model.fit(X_train, y_train)\n",
        "y_pred = model.predict(X_test)\n",
        "\n",
        "y_pred[:5]\n"
      ]
    },
    {
      "cell_type": "code",
      "execution_count": 44,
      "id": "4d915c18",
      "metadata": {},
      "outputs": [
        {
          "name": "stdout",
          "output_type": "stream",
          "text": [
            "0.796875\n"
          ]
        }
      ],
      "source": [
        "from sklearn.metrics import f1_score\n",
        "f1 = f1_score(y_test, y_pred)\n",
        "print(f1)"
      ]
    },
    {
      "cell_type": "code",
      "execution_count": 45,
      "id": "2579a6f0",
      "metadata": {},
      "outputs": [
        {
          "data": {
            "text/plain": [
              "0.847953216374269"
            ]
          },
          "execution_count": 45,
          "metadata": {},
          "output_type": "execute_result"
        }
      ],
      "source": [
        "from sklearn.metrics import accuracy_score\n",
        "accuracy_score(y_test, y_pred)"
      ]
    },
    {
      "cell_type": "code",
      "execution_count": 46,
      "id": "738bcd8d",
      "metadata": {},
      "outputs": [
        {
          "data": {
            "text/plain": [
              "<sklearn.metrics._plot.confusion_matrix.ConfusionMatrixDisplay at 0x7fb238598310>"
            ]
          },
          "execution_count": 46,
          "metadata": {},
          "output_type": "execute_result"
        },
        {
          "data": {
            "image/png": "[encoded data removed]",
            "text/plain": [
              "<Figure size 432x288 with 2 Axes>"
            ]
          },
          "metadata": {
            "needs_background": "light"
          },
          "output_type": "display_data"
        }
      ],
      "source": [
        "from sklearn.metrics import confusion_matrix, ConfusionMatrixDisplay\n",
        "cm = confusion_matrix(y_test, y_pred)\n",
        "ConfusionMatrixDisplay(confusion_matrix = cm, display_labels = model.classes_).plot()"
      ]
    },
    {
      "cell_type": "code",
      "execution_count": 47,
      "id": "95eb131d",
      "metadata": {},
      "outputs": [
        {
          "name": "stdout",
          "output_type": "stream",
          "text": [
            "0.7183098591549296\n"
          ]
        }
      ],
      "source": [
        "tn, fp, fn, tp = confusion_matrix(y_test, y_pred).ravel()\n",
        "true_positive_rate = tp / (tp + fn)\n",
        "print(true_positive_rate)"
      ]
    },
    {
      "cell_type": "code",
      "execution_count": 48,
      "id": "640ffcc2",
      "metadata": {},
      "outputs": [
        {
          "name": "stdout",
          "output_type": "stream",
          "text": [
            "0.94\n"
          ]
        }
      ],
      "source": [
        "tn, fp, fn, tp = confusion_matrix(y_test, y_pred).ravel()\n",
        "true_negative_rate = tn / (tn + fp)\n",
        "print(true_negative_rate)"
      ]
    },
    {
      "cell_type": "code",
      "execution_count": 49,
      "id": "bbafa48b",
      "metadata": {},
      "outputs": [
        {
          "name": "stderr",
          "output_type": "stream",
          "text": [
            "/Library/Frameworks/Python.framework/Versions/3.9/lib/python3.9/site-packages/sklearn/utils/deprecation.py:87: FutureWarning: Function plot_roc_curve is deprecated; Function :func:`plot_roc_curve` is deprecated in 1.0 and will be removed in 1.2. Use one of the class methods: :meth:`sklearn.metrics.RocCurveDisplay.from_predictions` or :meth:`sklearn.metrics.RocCurveDisplay.from_estimator`.\n",
            "  warnings.warn(msg, category=FutureWarning)\n"
          ]
        },
        {
          "data": {
            "text/plain": [
              "<sklearn.metrics._plot.roc_curve.RocCurveDisplay at 0x7fb23859d6d0>"
            ]
          },
          "execution_count": 49,
          "metadata": {},
          "output_type": "execute_result"
        },
        {
          "data": {
            "image/png": "[encoded data removed]",
            "text/plain": [
              "<Figure size 432x288 with 1 Axes>"
            ]
          },
          "metadata": {
            "needs_background": "light"
          },
          "output_type": "display_data"
        }
      ],
      "source": [
        "import matplotlib.pyplot as plt\n",
        "from sklearn.metrics import plot_roc_curve\n",
        "\n",
        "plot_roc_curve(model, X_test, y_test)"
      ]
    },
    {
      "cell_type": "code",
      "execution_count": 50,
      "id": "86253328",
      "metadata": {},
      "outputs": [
        {
          "name": "stdout",
          "output_type": "stream",
          "text": [
            "0.8291549295774647\n"
          ]
        }
      ],
      "source": [
        "from sklearn.metrics import roc_auc_score\n",
        "\n",
        "roc_auc = roc_auc_score(y_test, y_pred)\n",
        "print(roc_auc)"
      ]
    },
    {
      "cell_type": "markdown",
      "id": "1efec05a",
      "metadata": {},
      "source": [
        "TREE"
      ]
    },
    {
      "cell_type": "code",
      "execution_count": 51,
      "id": "7Chyn57Y3-0Z",
      "metadata": {
        "id": "7Chyn57Y3-0Z"
      },
      "outputs": [
        {
          "data": {
            "text/plain": [
              "array([1, 0, 1, 0, 0])"
            ]
          },
          "execution_count": 51,
          "metadata": {},
          "output_type": "execute_result"
        }
      ],
      "source": [
        "from sklearn import tree\n",
        "\n",
        "model = tree.DecisionTreeClassifier()\n",
        "model.fit(X_train, y_train)\n",
        "y_pred = model.predict(X_test)\n",
        "\n",
        "y_pred[:5]"
      ]
    },
    {
      "cell_type": "code",
      "execution_count": 52,
      "id": "2178a14a",
      "metadata": {},
      "outputs": [
        {
          "name": "stdout",
          "output_type": "stream",
          "text": [
            "0.8695652173913043\n"
          ]
        }
      ],
      "source": [
        "from sklearn.metrics import f1_score\n",
        "f1 = f1_score(y_test, y_pred)\n",
        "print(f1)"
      ]
    },
    {
      "cell_type": "code",
      "execution_count": 53,
      "id": "b7336203",
      "metadata": {},
      "outputs": [
        {
          "data": {
            "text/plain": [
              "0.8947368421052632"
            ]
          },
          "execution_count": 53,
          "metadata": {},
          "output_type": "execute_result"
        }
      ],
      "source": [
        "from sklearn.metrics import accuracy_score\n",
        "accuracy_score(y_test, y_pred)"
      ]
    },
    {
      "cell_type": "code",
      "execution_count": 54,
      "id": "ae700ee4",
      "metadata": {},
      "outputs": [
        {
          "data": {
            "text/plain": [
              "<sklearn.metrics._plot.confusion_matrix.ConfusionMatrixDisplay at 0x7fb23c2607f0>"
            ]
          },
          "execution_count": 54,
          "metadata": {},
          "output_type": "execute_result"
        },
        {
          "data": {
            "image/png": "[encoded data removed]",
            "text/plain": [
              "<Figure size 432x288 with 2 Axes>"
            ]
          },
          "metadata": {
            "needs_background": "light"
          },
          "output_type": "display_data"
        }
      ],
      "source": [
        "from sklearn.metrics import confusion_matrix, ConfusionMatrixDisplay\n",
        "cm = confusion_matrix(y_test, y_pred)\n",
        "ConfusionMatrixDisplay(confusion_matrix = cm, display_labels = model.classes_).plot()"
      ]
    },
    {
      "cell_type": "code",
      "execution_count": 55,
      "id": "f82ddaff",
      "metadata": {},
      "outputs": [
        {
          "name": "stdout",
          "output_type": "stream",
          "text": [
            "0.8450704225352113\n"
          ]
        }
      ],
      "source": [
        "tn, fp, fn, tp = confusion_matrix(y_test, y_pred).ravel()\n",
        "true_positive_rate = tp / (tp + fn)\n",
        "print(true_positive_rate)"
      ]
    },
    {
      "cell_type": "code",
      "execution_count": 56,
      "id": "cb68f0f2",
      "metadata": {},
      "outputs": [
        {
          "name": "stdout",
          "output_type": "stream",
          "text": [
            "0.93\n"
          ]
        }
      ],
      "source": [
        "tn, fp, fn, tp = confusion_matrix(y_test, y_pred).ravel()\n",
        "true_negative_rate = tn / (tn + fp)\n",
        "print(true_negative_rate)"
      ]
    },
    {
      "cell_type": "code",
      "execution_count": 57,
      "id": "b770f395",
      "metadata": {},
      "outputs": [
        {
          "name": "stderr",
          "output_type": "stream",
          "text": [
            "/Library/Frameworks/Python.framework/Versions/3.9/lib/python3.9/site-packages/sklearn/utils/deprecation.py:87: FutureWarning: Function plot_roc_curve is deprecated; Function :func:`plot_roc_curve` is deprecated in 1.0 and will be removed in 1.2. Use one of the class methods: :meth:`sklearn.metrics.RocCurveDisplay.from_predictions` or :meth:`sklearn.metrics.RocCurveDisplay.from_estimator`.\n",
            "  warnings.warn(msg, category=FutureWarning)\n"
          ]
        },
        {
          "data": {
            "text/plain": [
              "<sklearn.metrics._plot.roc_curve.RocCurveDisplay at 0x7fb23c2a5ee0>"
            ]
          },
          "execution_count": 57,
          "metadata": {},
          "output_type": "execute_result"
        },
        {
          "data": {
            "image/png": "[encoded data removed]",
            "text/plain": [
              "<Figure size 432x288 with 1 Axes>"
            ]
          },
          "metadata": {
            "needs_background": "light"
          },
          "output_type": "display_data"
        }
      ],
      "source": [
        "import matplotlib.pyplot as plt\n",
        "from sklearn.metrics import plot_roc_curve\n",
        "\n",
        "plot_roc_curve(model, X_test, y_test)"
      ]
    },
    {
      "cell_type": "code",
      "execution_count": 58,
      "id": "248ce196",
      "metadata": {},
      "outputs": [
        {
          "name": "stdout",
          "output_type": "stream",
          "text": [
            "0.8875352112676055\n"
          ]
        }
      ],
      "source": [
        "from sklearn.metrics import roc_auc_score\n",
        "\n",
        "roc_auc = roc_auc_score(y_test, y_pred)\n",
        "print(roc_auc)"
      ]
    },
    {
      "cell_type": "code",
      "execution_count": 85,
      "id": "042a4284",
      "metadata": {},
      "outputs": [
        {
          "ename": "TypeError",
          "evalue": "__init__() got an unexpected keyword argument 'n_estimators'",
          "output_type": "error",
          "traceback": [
            "\u001b[0;31m---------------------------------------------------------------------------\u001b[0m",
            "\u001b[0;31mTypeError\u001b[0m                                 Traceback (most recent call last)",
            "\u001b[1;32m/Users/Queenmtp/Desktop/machine-learning-2/Iteration3.ipynb Cellule 48\u001b[0m in \u001b[0;36m<cell line: 9>\u001b[0;34m()\u001b[0m\n\u001b[1;32m      <a href='vscode-notebook-cell:/Users/Queenmtp/Desktop/machine-learning-2/Iteration3.ipynb#Y202sZmlsZQ%3D%3D?line=5'>6</a>\u001b[0m X_test \u001b[39m=\u001b[39m test[prediction_var] \n\u001b[1;32m      <a href='vscode-notebook-cell:/Users/Queenmtp/Desktop/machine-learning-2/Iteration3.ipynb#Y202sZmlsZQ%3D%3D?line=6'>7</a>\u001b[0m y_test \u001b[39m=\u001b[39m test\u001b[39m.\u001b[39mdiagnosis\n\u001b[0;32m----> <a href='vscode-notebook-cell:/Users/Queenmtp/Desktop/machine-learning-2/Iteration3.ipynb#Y202sZmlsZQ%3D%3D?line=8'>9</a>\u001b[0m model\u001b[39m=\u001b[39mSVC(n_estimators\u001b[39m=\u001b[39;49m\u001b[39m100\u001b[39;49m)\n\u001b[1;32m     <a href='vscode-notebook-cell:/Users/Queenmtp/Desktop/machine-learning-2/Iteration3.ipynb#Y202sZmlsZQ%3D%3D?line=9'>10</a>\u001b[0m model\u001b[39m.\u001b[39mfit(X_train, y_train)\n\u001b[1;32m     <a href='vscode-notebook-cell:/Users/Queenmtp/Desktop/machine-learning-2/Iteration3.ipynb#Y202sZmlsZQ%3D%3D?line=11'>12</a>\u001b[0m prediction \u001b[39m=\u001b[39m model\u001b[39m.\u001b[39mpredict(X_test)\n",
            "\u001b[0;31mTypeError\u001b[0m: __init__() got an unexpected keyword argument 'n_estimators'"
          ]
        }
      ],
      "source": [
        "prediction_var=['concave_points_mean','perimeter_mean' , 'concavity_mean' , 'radius_mean','area_mean']\n",
        "train, test = train_test_split(data, test_size = 0.3)\n",
        "\n",
        "X_train= train[prediction_var] \n",
        "y_train= train.diagnosis \n",
        "X_test = test[prediction_var] \n",
        "y_test = test.diagnosis\n",
        "\n",
        "model=SVC(n_estimators=100)\n",
        "model.fit(X_train, y_train)\n",
        "\n",
        "prediction = model.predict(X_test)\n",
        "metrics.accuracy_score(prediction,y_test)\n",
        "\n",
        "\n",
        "\n",
        "from sklearn.feature_selection import SequentialFeatureSelector\n",
        "\n",
        "forward_feature_selection = SequentialFeatureSelector(RandomForestClassifier(n_jobs=-1), cv= 5).fit(X_train, y_train)\n"
      ]
    },
    {
      "cell_type": "code",
      "execution_count": 60,
      "id": "3a52868c",
      "metadata": {},
      "outputs": [
        {
          "data": {
            "text/plain": [
              "array([1, 0, 1, 0, 0, 1, 0, 1, 1, 0, 0, 0, 1, 0, 1, 0, 0, 0, 0, 1, 1, 0,\n",
              "       0, 0, 0, 0, 0, 0, 0, 1, 0, 0, 1, 1, 0, 0, 0, 0, 0, 0, 0, 1, 0, 0,\n",
              "       1, 1, 0, 1, 1, 0, 0, 1, 0, 0, 0, 1, 1, 0, 1, 1, 1, 0, 0, 1, 1, 0,\n",
              "       0, 0, 0, 1, 1, 0, 0, 0, 1, 0, 1, 0, 0, 1, 0, 1, 0, 1, 0, 1, 0, 0,\n",
              "       0, 1, 1, 0, 1, 0, 0, 0, 1, 0, 1, 0, 1, 1, 0, 0, 0, 1, 1, 0, 1, 1,\n",
              "       0, 0, 0, 0, 0, 0, 0, 0, 1, 0, 1, 0, 1, 0, 1, 0, 0, 0, 1, 0, 1, 1,\n",
              "       1, 1, 1, 1, 0, 0, 1, 0, 0, 1, 0, 1, 0, 0, 0, 0, 0, 0, 0, 1, 1, 0,\n",
              "       1, 1, 0, 0, 0, 0, 0, 1, 0, 0, 1, 1, 0, 0, 1, 0, 1])"
            ]
          },
          "execution_count": 60,
          "metadata": {},
          "output_type": "execute_result"
        }
      ],
      "source": [
        "y_pred"
      ]
    },
    {
      "cell_type": "markdown",
      "id": "3f63b617",
      "metadata": {
        "id": "3f63b617"
      },
      "source": [
        "### 1.4 Evaluation du modèle"
      ]
    },
    {
      "cell_type": "markdown",
      "id": "aa208d5b",
      "metadata": {
        "id": "aa208d5b"
      },
      "source": [
        "Afin d'évaluer un classificateur ML binaire, quelques mesures sont à notre disposition :\n",
        "* la précision\n",
        "* la matrice de confusion\n",
        "* Sensibilité et Spécificité\n",
        "* le score F1\n",
        "* la courbe ROC et l'AUC"
      ]
    },
    {
      "cell_type": "markdown",
      "id": "20782660",
      "metadata": {
        "id": "20782660"
      },
      "source": [
        "#### 1.4.1 The Accuracy/précision"
      ]
    },
    {
      "cell_type": "markdown",
      "id": "917d644c",
      "metadata": {
        "id": "917d644c"
      },
      "source": [
        "Nous allons d'abord essayer d'utiliser l'accuracy pour l'évaluation.    \n",
        "Afin d'obtenir l'accuracy, nous divisons le nombre de prédictions correctes par le nombre total de prédictions et obtenons ainsi le pourcentage d'échantillons qui ont été prédits correctement :"
      ]
    },
    {
      "cell_type": "markdown",
      "id": "6d7f467e",
      "metadata": {
        "id": "6d7f467e"
      },
      "source": [
        "$accuracy = \\frac{CorrectPredictions}{AllPredictions}$"
      ]
    },
    {
      "cell_type": "code",
      "execution_count": 61,
      "id": "8a08befa",
      "metadata": {
        "colab": {
          "base_uri": "https://localhost:8080/"
        },
        "id": "8a08befa",
        "outputId": "2fa1fb90-47ab-4178-8211-ba402f7d777d"
      },
      "outputs": [
        {
          "data": {
            "text/plain": [
              "0.4678362573099415"
            ]
          },
          "execution_count": 61,
          "metadata": {},
          "output_type": "execute_result"
        }
      ],
      "source": [
        "from sklearn.metrics import accuracy_score\n",
        "accuracy_score(y_test, y_pred)"
      ]
    },
    {
      "cell_type": "markdown",
      "id": "8992ccd4",
      "metadata": {
        "id": "8992ccd4"
      },
      "source": [
        "Cette métrique nous donne une idée très générale de l'efficacité de notre modèle. \n",
        "\n",
        "Mais lorsque les données sont déséquilibrées, l'accuracy n'est pas la meilleure mesure à utiliser. En effet, imaginez que un jeu de données, 95% des personnes ont survécu. Si mon modèle suppose systématiquement que les personnes ont survécu, dans le pire des cas, j'aurais donc une précision de 95 %. Ce qui semble être un excellent résultat, mais mon modèle ne ferait en fait absolument rien.\n",
        "\n",
        "Dans les cas déséquilibrés, une \"balanced accuracy\" peut être calculée."
      ]
    },
    {
      "cell_type": "markdown",
      "id": "a0eb2f96",
      "metadata": {
        "id": "a0eb2f96"
      },
      "source": [
        "#### 1.4.2 The confusion matrix"
      ]
    },
    {
      "cell_type": "markdown",
      "id": "335e8aa6",
      "metadata": {
        "id": "335e8aa6"
      },
      "source": [
        "Afin d'avoir une vision plus précise de la qualité de prédiction de notre modèle, nous pouvons utiliser la matrice de confusion.\n",
        "\n",
        "La matrice de confusion représente donc le décompte de toutes les instances TP, TN, FP, et FN :\n",
        "\n",
        "* Vrai Négatif (True Negative) : Chaque fois que nous disons Vrai, cela signifie que nos prédictions correspondent aux réalités. True Negative signifie que les prédictions et les réalisations sont toutes deux de classe négative.\n",
        "\n",
        "* Vrai positif (True Positive): De même, lorsque les prédictions et les réalisations sont de classe positive, on parle de Vrai Positif.\n",
        "\n",
        "* Faux positif (False Positive): Lorsqu'une prédiction est positive et que le réel est négatif, on parle de faux positif.\n",
        "\n",
        "* Faux négatif (False nagative): Comme pour les faux positifs, on parle de faux négatif lorsque la prédiction est négative mais que le réel est positif. \n",
        "\n",
        "*Source: https://www.kdnuggets.com/2022/09/visualizing-confusion-matrix-scikitlearn.html*\n"
      ]
    },
    {
      "cell_type": "markdown",
      "id": "ba9c9f18",
      "metadata": {
        "id": "ba9c9f18"
      },
      "source": [
        "<img src=\"ConfusionMatrix.png\" alt=\"confusionmatrix\" style=\"width: 600px;\"/>"
      ]
    },
    {
      "cell_type": "code",
      "execution_count": 62,
      "id": "3f3c1ebb",
      "metadata": {
        "colab": {
          "base_uri": "https://localhost:8080/",
          "height": 296
        },
        "id": "3f3c1ebb",
        "outputId": "222e7c06-bf1a-4080-8771-cd1ccc401ee2"
      },
      "outputs": [
        {
          "data": {
            "text/plain": [
              "<sklearn.metrics._plot.confusion_matrix.ConfusionMatrixDisplay at 0x7fb23c483220>"
            ]
          },
          "execution_count": 62,
          "metadata": {},
          "output_type": "execute_result"
        },
        {
          "data": {
            "image/png": "[encoded data removed]",
            "text/plain": [
              "<Figure size 432x288 with 2 Axes>"
            ]
          },
          "metadata": {
            "needs_background": "light"
          },
          "output_type": "display_data"
        }
      ],
      "source": [
        "from sklearn.metrics import confusion_matrix, ConfusionMatrixDisplay\n",
        "cm = confusion_matrix(y_test, y_pred)\n",
        "ConfusionMatrixDisplay(confusion_matrix = cm, display_labels = model.classes_).plot()"
      ]
    },
    {
      "cell_type": "markdown",
      "id": "0c7169bd",
      "metadata": {
        "id": "0c7169bd"
      },
      "source": [
        "#### 1.4.3 Sensitivity and Spécificity/ Sensibilité et Spécificité"
      ]
    },
    {
      "cell_type": "markdown",
      "id": "3bdb975b",
      "metadata": {
        "id": "3bdb975b"
      },
      "source": [
        "À l'aide de la matrice de confusion, nous pouvons calculer des mesures plus précises pour évaluer l'efficacité de notre modèle. La précision et le rappel sont quelques-unes de ces mesures.\n",
        "\n",
        "La sensibilité (également appelée taux de vrais positifs, TPR) est définie comme le pourcentage d'exemples pertinents (vrais positifs) parmi tous les exemples de cette classe. Vous pouvez considérer qu'il s'agit de la manière dont votre modèle étiquette précisément la classe que vous souhaitez détecter. \n",
        "\n",
        "La spécificité (également appelée taux de vrais négatifs, TNR), quant à elle, est définie comme le pourcentage d'exemples qui sont prédits faux parmi tous les exemples qui sont réellement faux. Vous pouvez considérer qu'il s'agit de la précision avec laquelle votre modèle identifie les classes erronées. "
      ]
    },
    {
      "cell_type": "markdown",
      "id": "08d57056",
      "metadata": {
        "id": "08d57056"
      },
      "source": [
        "La sensibilité et la spécificité sont très utiles dans les cas où les classes ne sont pas distribuées uniformément. Elles sont également très utiles si vous voulez mesurer sur quelle classe si votre modèle est très précis."
      ]
    },
    {
      "cell_type": "markdown",
      "id": "47d4ad8c",
      "metadata": {
        "id": "47d4ad8c"
      },
      "source": [
        "$ TPR = \\frac{TP}{TP + FN}$"
      ]
    },
    {
      "cell_type": "markdown",
      "id": "32546971",
      "metadata": {
        "id": "32546971"
      },
      "source": [
        "$ TNR = \\frac{TN}{TN + FP}$"
      ]
    },
    {
      "cell_type": "code",
      "execution_count": 63,
      "id": "ce5e35c1",
      "metadata": {
        "colab": {
          "base_uri": "https://localhost:8080/"
        },
        "id": "ce5e35c1",
        "outputId": "765ec277-2f89-4d1f-e585-d0218d3e342f"
      },
      "outputs": [
        {
          "name": "stdout",
          "output_type": "stream",
          "text": [
            "0.32857142857142857\n"
          ]
        }
      ],
      "source": [
        "tn, fp, fn, tp = confusion_matrix(y_test, y_pred).ravel()\n",
        "true_positive_rate = tp / (tp + fn)\n",
        "print(true_positive_rate)"
      ]
    },
    {
      "cell_type": "code",
      "execution_count": 64,
      "id": "3841bd27",
      "metadata": {
        "colab": {
          "base_uri": "https://localhost:8080/"
        },
        "id": "3841bd27",
        "outputId": "da9238a6-720b-4346-af3a-6a623f37900e"
      },
      "outputs": [
        {
          "name": "stdout",
          "output_type": "stream",
          "text": [
            "0.5643564356435643\n"
          ]
        }
      ],
      "source": [
        "tn, fp, fn, tp = confusion_matrix(y_test, y_pred).ravel()\n",
        "true_negative_rate = tn / (tn + fp)\n",
        "print(true_negative_rate)"
      ]
    },
    {
      "cell_type": "markdown",
      "id": "d5c40c08",
      "metadata": {
        "id": "d5c40c08"
      },
      "source": [
        "#### 1.4.4 F1 score"
      ]
    },
    {
      "cell_type": "markdown",
      "id": "dbff7c89",
      "metadata": {
        "id": "dbff7c89"
      },
      "source": [
        "Le F1 est la moyenne harmonique de Precision et Recall. Cette métrique d'évaluation est une mesure de l'exactitude globale que notre modèle a atteint dans un environnement de prédiction positive-\n",
        "c'est-à-dire, parmi toutes les observations que notre modèle a étiquetées comme positives, combien de ces observations sont réellement positives. Vous utilisez cette métrique lorsque la spécificité et la sensibilité ont la même importance dans vos prédictions."
      ]
    },
    {
      "cell_type": "markdown",
      "id": "6b3e0f95",
      "metadata": {
        "id": "6b3e0f95"
      },
      "source": [
        "$ F1 = 2 \\times \\frac{TPR \\times TNR}{TPR + TNR}$"
      ]
    },
    {
      "cell_type": "code",
      "execution_count": 65,
      "id": "0219614c",
      "metadata": {
        "colab": {
          "base_uri": "https://localhost:8080/"
        },
        "id": "0219614c",
        "outputId": "856bc474-b139-4224-a97e-2b21c224f723"
      },
      "outputs": [
        {
          "name": "stdout",
          "output_type": "stream",
          "text": [
            "0.3357664233576642\n"
          ]
        }
      ],
      "source": [
        "from sklearn.metrics import f1_score\n",
        "f1 = f1_score(y_test, y_pred)\n",
        "print(f1)"
      ]
    },
    {
      "cell_type": "markdown",
      "id": "52942e14",
      "metadata": {
        "id": "52942e14"
      },
      "source": [
        "#### 1.4.5 The ROC curve"
      ]
    },
    {
      "cell_type": "markdown",
      "id": "5349770c",
      "metadata": {
        "id": "5349770c"
      },
      "source": [
        "Il s'agit d'un graphique qui permet de visualiser le compromis entre le taux de vrais positifs (TPR) et le taux de faux positifs (FPR). En fait, pour chaque seuil de décision, nous calculons le TPR et le FPR et les reportons sur un graphique.\n",
        "Les courbes se situant plus en haut à gauche sont meilleurs."
      ]
    },
    {
      "cell_type": "code",
      "execution_count": 66,
      "id": "df959f67",
      "metadata": {
        "colab": {
          "base_uri": "https://localhost:8080/",
          "height": 351
        },
        "id": "df959f67",
        "outputId": "b722b216-c0f8-4c81-d398-460b6a315d50"
      },
      "outputs": [
        {
          "name": "stderr",
          "output_type": "stream",
          "text": [
            "/Library/Frameworks/Python.framework/Versions/3.9/lib/python3.9/site-packages/sklearn/utils/deprecation.py:87: FutureWarning: Function plot_roc_curve is deprecated; Function :func:`plot_roc_curve` is deprecated in 1.0 and will be removed in 1.2. Use one of the class methods: :meth:`sklearn.metrics.RocCurveDisplay.from_predictions` or :meth:`sklearn.metrics.RocCurveDisplay.from_estimator`.\n",
            "  warnings.warn(msg, category=FutureWarning)\n"
          ]
        },
        {
          "data": {
            "text/plain": [
              "<sklearn.metrics._plot.roc_curve.RocCurveDisplay at 0x7fb23bf703d0>"
            ]
          },
          "execution_count": 66,
          "metadata": {},
          "output_type": "execute_result"
        },
        {
          "data": {
            "image/png": "[encoded data removed]",
            "text/plain": [
              "<Figure size 432x288 with 1 Axes>"
            ]
          },
          "metadata": {
            "needs_background": "light"
          },
          "output_type": "display_data"
        }
      ],
      "source": [
        "import matplotlib.pyplot as plt\n",
        "from sklearn.metrics import plot_roc_curve\n",
        "\n",
        "plot_roc_curve(model, X_test, y_test)"
      ]
    },
    {
      "cell_type": "markdown",
      "id": "485b22ec",
      "metadata": {
        "id": "485b22ec"
      },
      "source": [
        "L'objectif du tracé des courbes ROC est de pouvoir comparer la performance des modèles entre eux. Mais comparer les courbes ROC à la main peut être un peu difficile, c'est pourquoi nous utilisons une métrique appelée AUC (pour Area Under the Curve) qui calcule directement toute l'aire sous la courbe ROC. Grâce à la métrique AUC, nous pouvons comparer les modèles plus facilement. Une AUC proche de 1 est meilleure."
      ]
    },
    {
      "cell_type": "code",
      "execution_count": 67,
      "id": "6a7126d0",
      "metadata": {
        "colab": {
          "base_uri": "https://localhost:8080/"
        },
        "id": "6a7126d0",
        "outputId": "a0e6c5e0-40f2-4b9e-e283-5c1a774c98b9"
      },
      "outputs": [
        {
          "name": "stdout",
          "output_type": "stream",
          "text": [
            "0.44646393210749646\n"
          ]
        }
      ],
      "source": [
        "from sklearn.metrics import roc_auc_score\n",
        "\n",
        "roc_auc = roc_auc_score(y_test, y_pred)\n",
        "print(roc_auc)"
      ]
    },
    {
      "cell_type": "markdown",
      "id": "23895072",
      "metadata": {
        "id": "23895072"
      },
      "source": [
        "* Vous ne devriez pas l'utiliser lorsque vos données sont fortement déséquilibrées. L'intuition est la suivante : le taux de faux positifs pour les ensembles de données fortement déséquilibrés est réduit en raison d'un grand nombre de vrais négatifs.\n",
        "* Vous devriez l'utiliser lorsque vous vous souciez autant des classes positives que négatives. Elle prolonge naturellement la discussion sur les données déséquilibrées de la dernière section. Si nous nous préoccupons des vrais négatifs autant que des vrais positifs, il est tout à fait logique d'utiliser ROC "
      ]
    },
    {
      "cell_type": "markdown",
      "id": "0128f95c",
      "metadata": {
        "id": "0128f95c"
      },
      "source": [
        "### 1.5 Your turn ! "
      ]
    },
    {
      "cell_type": "markdown",
      "id": "99a6f8f6",
      "metadata": {
        "id": "99a6f8f6"
      },
      "source": [
        "**C'est à votre tour d'entraîner un modèle avec l'algorithme SVM et ensuite un algorithme d'arbre de décision. Gardez le même preprocessing des données et la même répartition train-test pour chaque modèle et comparez les métriques d'évaluation que vous obtenez ! \n",
        "Quel modèle est le plus performant ? Justifiez "
      ]
    },
    {
      "cell_type": "code",
      "execution_count": null,
      "id": "5bbda28c",
      "metadata": {
        "id": "5bbda28c"
      },
      "outputs": [],
      "source": []
    },
    {
      "cell_type": "code",
      "execution_count": null,
      "id": "b3033475",
      "metadata": {
        "id": "b3033475"
      },
      "outputs": [],
      "source": []
    },
    {
      "cell_type": "markdown",
      "id": "e5fe02c7",
      "metadata": {
        "id": "e5fe02c7"
      },
      "source": [
        "## 2. Underfitting vs Overfitting "
      ]
    },
    {
      "cell_type": "markdown",
      "id": "fd7aa830",
      "metadata": {
        "id": "fd7aa830"
      },
      "source": [
        "Le but de notre algorithme d'apprentissage automatique est d'être capable de modéliser la relation entre nos caractéristiques afin de faire des prédictions précises.\n",
        "\n",
        "Mais pour que notre modèle soit capable de \"trouver notre relation globale\", il est essentiel que les hyperparamètres soient bien réglés. \n",
        "\n",
        "En effet, si nous essayons d'avoir le meilleur modèle adapté à notre ensemble d'apprentissage, nous risquons de **sur-ajuster** le modèle. Dans ce scénario, le modèle apprendrait les données d'apprentissage \"par cœur\" et ne serait pas en mesure de généraliser correctement sur les données de test. \n",
        "\n",
        "D'autre part, si notre modèle est trop large et qu'il ne capture aucune relation, nous risquons de **underfit** notre modèle. Dans ce scénario, le modèle aura de mauvais résultats sur les données de formation ET les données de test. \n",
        "\n",
        "L'image suivante explique très bien ces scénarios :"
      ]
    },
    {
      "cell_type": "markdown",
      "id": "b905832c",
      "metadata": {
        "id": "b905832c"
      },
      "source": [
        "<img src=\"model-over-fitting.png\" alt=\"overfit_underfit\" style=\"width: 400px;\"/>\n",
        "\n",
        "Image Source: https://www.ibm.com/cloud/learn/overfitting"
      ]
    },
    {
      "cell_type": "markdown",
      "id": "6801f26d",
      "metadata": {
        "id": "6801f26d"
      },
      "source": [
        "Afin d'obtenir un modèle optimal, nous voulons tracer l'évolution de notre erreur de training et de notre erreur de test, en fonction de notre hyperparamètre, afin de voir où ces deux erreurs sont les plus faibles.\n",
        "\n",
        "Pour KNN, l'hyperparamètre que nous voulons ajuster est le nombre de voisins."
      ]
    },
    {
      "cell_type": "code",
      "execution_count": 68,
      "id": "621de637",
      "metadata": {
        "id": "621de637",
        "outputId": "8630678f-88f0-437c-bcdb-bb0a6f6c6881"
      },
      "outputs": [
        {
          "data": {
            "text/plain": [
              "[]"
            ]
          },
          "execution_count": 68,
          "metadata": {},
          "output_type": "execute_result"
        },
        {
          "data": {
            "image/png": "[encoded data removed]",
            "text/plain": [
              "<Figure size 432x288 with 1 Axes>"
            ]
          },
          "metadata": {
            "needs_background": "light"
          },
          "output_type": "display_data"
        }
      ],
      "source": [
        "import matplotlib.pyplot as plt\n",
        "hyperparam = [i for i in range(1,20)]\n",
        "accuracy_training = []\n",
        "accuracy_test = []\n",
        "\n",
        "for k in hyperparam:\n",
        "    #Training set\n",
        "    model = KNeighborsClassifier(n_neighbors=k)\n",
        "    model.fit(X_train, y_train)\n",
        "    y_pred = model.predict(X_train)\n",
        "    accuracy_training.append(accuracy_score(y_train, y_pred))\n",
        "    #test set\n",
        "    model = KNeighborsClassifier(n_neighbors=k)\n",
        "    model.fit(X_train, y_train)\n",
        "    y_pred = model.predict(X_test)\n",
        "    accuracy_test.append(accuracy_score(y_test, y_pred))\n",
        "    \n",
        "plt.plot(hyperparam, accuracy_training, label = \"accuracry_training\" )\n",
        "plt.plot(hyperparam, accuracy_test, label = \"accuracry_test\" )\n",
        "plt.title(\"Evolution of our accuracy rate given the number of neighbors in KNN\")\n",
        "plt.xlabel(\"number of neighbors\")\n",
        "plt.ylabel(\"accuracy\")\n",
        "plt.plot()"
      ]
    },
    {
      "cell_type": "code",
      "execution_count": 69,
      "id": "012dfccc",
      "metadata": {},
      "outputs": [
        {
          "name": "stderr",
          "output_type": "stream",
          "text": [
            "/Library/Frameworks/Python.framework/Versions/3.9/lib/python3.9/site-packages/sklearn/utils/deprecation.py:87: FutureWarning: Function plot_roc_curve is deprecated; Function :func:`plot_roc_curve` is deprecated in 1.0 and will be removed in 1.2. Use one of the class methods: :meth:`sklearn.metrics.RocCurveDisplay.from_predictions` or :meth:`sklearn.metrics.RocCurveDisplay.from_estimator`.\n",
            "  warnings.warn(msg, category=FutureWarning)\n"
          ]
        },
        {
          "data": {
            "text/plain": [
              "<sklearn.metrics._plot.roc_curve.RocCurveDisplay at 0x7fb23c4ab0a0>"
            ]
          },
          "execution_count": 69,
          "metadata": {},
          "output_type": "execute_result"
        },
        {
          "data": {
            "image/png": "[encoded data removed]",
            "text/plain": [
              "<Figure size 432x288 with 1 Axes>"
            ]
          },
          "metadata": {
            "needs_background": "light"
          },
          "output_type": "display_data"
        }
      ],
      "source": [
        "import matplotlib.pyplot as plt \n",
        "from sklearn.metrics import plot_roc_curve\n",
        "\n",
        "plot_roc_curve(model, X_test, y_test)"
      ]
    },
    {
      "cell_type": "markdown",
      "id": "69005d03",
      "metadata": {
        "id": "69005d03"
      },
      "source": [
        "Une bonne façon de réduire le risque d'overfitting lors du choix d'un modèle est d'utiliser la **k-fold-cross-validation**.\n",
        "\n",
        "L'idée est simple : nous divisons l'ensemble d'apprentissage en un certain nombre de sous-ensembles, appelés plis. Prenons l'exemple de cinq plis. Nous effectuons une série de cycles d'apprentissage et d'évaluation où, à chaque fois, nous nous entraînons sur 4 des plis et testons le 5e, appelé l'ensemble d'attente. Nous répétons ce cycle 5 fois, en utilisant à chaque fois un pli différent pour l'évaluation. À la fin, nous faisons la moyenne des scores pour chacun des plis afin de déterminer la performance globale d'un modèle donné. Cela nous permet d'optimiser le modèle avant son déploiement sans avoir à utiliser de données supplémentaires."
      ]
    },
    {
      "cell_type": "markdown",
      "id": "32e64af0",
      "metadata": {
        "id": "32e64af0"
      },
      "source": [
        "<img src=\"CrossValidation.png\" alt=\"cross_validation\" style=\"width: 400px;\"/>\n",
        "\n",
        "\n",
        "Image Source: https://stackoverflow.com/questions/31947183/how-to-implement-walk-forward-testing-in-sklearn"
      ]
    },
    {
      "cell_type": "code",
      "execution_count": 70,
      "id": "92533979",
      "metadata": {
        "colab": {
          "base_uri": "https://localhost:8080/"
        },
        "id": "92533979",
        "outputId": "993c6d12-5ff1-4642-aa8a-679b36a09f2d"
      },
      "outputs": [
        {
          "name": "stdout",
          "output_type": "stream",
          "text": [
            "[0.84210526 0.86842105 0.86842105 0.90350877 0.84955752]\n",
            "0.87 accuracy with a standard deviation of 0.02\n"
          ]
        }
      ],
      "source": [
        "from sklearn.model_selection import cross_val_score\n",
        "model = KNeighborsClassifier(n_neighbors=3)\n",
        "scores = cross_val_score(model, X, y, cv=5)\n",
        "print(scores)\n",
        "print(\"%0.2f accuracy with a standard deviation of %0.2f\" % (scores.mean(), scores.std()))"
      ]
    },
    {
      "cell_type": "code",
      "execution_count": 71,
      "id": "ZYmcKJKz_ZAe",
      "metadata": {
        "id": "ZYmcKJKz_ZAe"
      },
      "outputs": [
        {
          "name": "stdout",
          "output_type": "stream",
          "text": [
            "[0.85263158 0.90526316 0.93121693]\n",
            "0.90 accuracy with a standard deviation of 0.03\n"
          ]
        }
      ],
      "source": [
        "from sklearn.model_selection import cross_val_score\n",
        "model = SVC(kernel=\"linear\")\n",
        "scores = cross_val_score(model, X, y, cv=3)\n",
        "print(scores)\n",
        "print(\"%0.2f accuracy with a standard deviation of %0.2f\" % (scores.mean(), scores.std()))"
      ]
    },
    {
      "cell_type": "code",
      "execution_count": 72,
      "id": "b4df36bc",
      "metadata": {},
      "outputs": [],
      "source": [
        "#Import svm model\n",
        "from sklearn import svm\n",
        "\n",
        "#Create a svm Classifier\n",
        "clf = svm.SVC(kernel='linear') # Linear Kernel\n",
        "\n",
        "#Train the model using the training sets\n",
        "clf.fit(X_train, y_train)\n",
        "\n",
        "#Predict the response for test dataset\n",
        "y_pred = clf.predict(X_test)\n",
        "\n"
      ]
    },
    {
      "cell_type": "markdown",
      "id": "d60dfbf8",
      "metadata": {
        "id": "d60dfbf8"
      },
      "source": [
        "Si nous dessinons notre graphique précédent en utilisant la 5-fold-cross-validation, nous obtenons :"
      ]
    },
    {
      "cell_type": "markdown",
      "id": "515cc2fa",
      "metadata": {
        "id": "515cc2fa"
      },
      "source": [
        "Vous pouvez voir ici que lorsque nous utilisons la cross validation, connaitre notre nombre de voisins est moins important car les données d'entraînement sont mélangées. Donc pas de risque d'apprendre nos données d'entraînement par cœur !"
      ]
    },
    {
      "cell_type": "markdown",
      "id": "363efadf",
      "metadata": {
        "id": "363efadf"
      },
      "source": [
        "Mais l'overfitting ne doit pas être confondu avec la sélection de modèle !\n",
        "Nous choisissons un modèle prédictif en fonction de ses performances hors training set. C'est-à-dire, sa performance sur de nouvelles données non vues pendant la formation. Nous choisissons notre modèle en fonction de sa précision sur l'ensemble de données de test et de validation et non sur l'ensemble de données d'apprentissage."
      ]
    },
    {
      "cell_type": "markdown",
      "id": "338d855f",
      "metadata": {
        "id": "338d855f"
      },
      "source": [
        "D'autres méthodes pour éviter l'overfitting comprennent :\n",
        "   *  ensembling\n",
        "   * data augmentation\n",
        "   * data simplification \n",
        "   \n",
        "    \n",
        "Lecture complémentaire : https://corporatefinanceinstitute.com/resources/data-science/overfitting/"
      ]
    },
    {
      "cell_type": "markdown",
      "id": "09702744",
      "metadata": {
        "id": "09702744"
      },
      "source": [
        "### A votre tour ! \n",
        "\n",
        "**Tout en gardant le même préprocessing de données, essayez de trouver les meilleurs hyperparamètres pour un modèle SVM et un modèle d'arbre de décision (Decision Tree)**."
      ]
    },
    {
      "cell_type": "markdown",
      "id": "2dccebee",
      "metadata": {
        "id": "2dccebee"
      },
      "source": [
        "## 3. Pour aller plus loin"
      ]
    },
    {
      "cell_type": "markdown",
      "id": "75633a6d",
      "metadata": {
        "id": "75633a6d"
      },
      "source": [
        "Curse of dimensionality:\n",
        " * https://medium.com/analytics-vidhya/the-curse-of-dimensionality-and-its-cure-f9891ab72e5c\n",
        "\n",
        "Feature Selection:\n",
        "* https://www.simplilearn.com/tutorials/machine-learning-tutorial/feature-selection-in-machine-learning\n",
        "* https://www.analyticsvidhya.com/blog/2020/10/feature-selection-techniques-in-machine-learning/\n"
      ]
    },
    {
      "cell_type": "code",
      "execution_count": null,
      "id": "c65bd32a",
      "metadata": {
        "id": "c65bd32a"
      },
      "outputs": [],
      "source": []
    },
    {
      "cell_type": "code",
      "execution_count": 73,
      "id": "fR_zFUS9DR5B",
      "metadata": {
        "id": "fR_zFUS9DR5B"
      },
      "outputs": [
        {
          "ename": "SyntaxError",
          "evalue": "invalid syntax (510110234.py, line 1)",
          "output_type": "error",
          "traceback": [
            "\u001b[0;36m  Input \u001b[0;32mIn [73]\u001b[0;36m\u001b[0m\n\u001b[0;31m    DOC SKLEARN SUR TREE / NEIGHBORD / CVS\u001b[0m\n\u001b[0m        ^\u001b[0m\n\u001b[0;31mSyntaxError\u001b[0m\u001b[0;31m:\u001b[0m invalid syntax\n"
          ]
        }
      ],
      "source": [
        "DOC SKLEARN SUR TREE / NEIGHBORD / CVS \n",
        "https://scikit-learn.org/stable/modules/generated/sklearn.neighbors.KNeighborsClassifier.html\n",
        "https://scikit-learn.org/stable/modules/generated/sklearn.tree.DecisionTreeClassifier.html?highlight=tree\n",
        "https://scikit-learn.org/stable/modules/generated/sklearn.svm.SVC.html?highlight=svc#sklearn.svm.SVC"
      ]
    }
  ],
  "metadata": {
    "colab": {
      "collapsed_sections": [
        "fe5f3216",
        "63845c91",
        "3f63b617",
        "20782660",
        "a0eb2f96",
        "0c7169bd",
        "d5c40c08",
        "52942e14",
        "0128f95c",
        "09702744"
      ],
      "provenance": []
    },
    "kernelspec": {
      "display_name": "Python 3.9.0 64-bit",
      "language": "python",
      "name": "python3"
    },
    "language_info": {
      "codemirror_mode": {
        "name": "ipython",
        "version": 3
      },
      "file_extension": ".py",
      "mimetype": "text/x-python",
      "name": "python",
      "nbconvert_exporter": "python",
      "pygments_lexer": "ipython3",
      "version": "3.9.0"
    },
    "vscode": {
      "interpreter": {
        "hash": "aee8b7b246df8f9039afb4144a1f6fd8d2ca17a180786b69acc140d282b71a49"
      }
    }
  },
  "nbformat": 4,
  "nbformat_minor": 5
}
